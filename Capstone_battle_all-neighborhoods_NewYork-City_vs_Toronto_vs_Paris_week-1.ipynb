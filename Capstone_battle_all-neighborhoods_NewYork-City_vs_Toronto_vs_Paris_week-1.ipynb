{
 "cells": [
  {
   "cell_type": "markdown",
   "metadata": {},
   "source": [
    "# Capstone project final Assignment: Battle of Neighborhoods"
   ]
  },
  {
   "cell_type": "markdown",
   "metadata": {},
   "source": [
    "## New York City vs Toronto vs Paris"
   ]
  },
  {
   "cell_type": "markdown",
   "metadata": {},
   "source": [
    "### For week #1, you will required to submit the following:\n"
   ]
  },
  {
   "cell_type": "markdown",
   "metadata": {},
   "source": [
    "### <font color=blue> A description of the problem and a discussion of the background. (15 marks) </font>\n"
   ]
  },
  {
   "cell_type": "markdown",
   "metadata": {},
   "source": [
    "<font color=black> **>** Compare the neighborhoods of the three multicultural cities and determine how similar or dissimilar they are. Is New York City more like Toronto or Paris? <br> **>** Discover the cities and their neigborhoods for planning travel</font> "
   ]
  },
  {
   "cell_type": "markdown",
   "metadata": {},
   "source": [
    "### <font color=blue>A description of the data and how it will be used to solve the problem. (15 marks)</font>"
   ]
  },
  {
   "cell_type": "markdown",
   "metadata": {},
   "source": [
    "<font color=black> **(1)** The data for the three cities include neighborhoods, Borough, Geographical Latitude and Longitude; Foursquare is used for exploring cities and neighborhoods. <br> *>>* **New York City:** 'newyork_data.json' downloaded from  https://cf-courses-data.s3.us.cloud-object-storage.appdomain.cloud/IBMDeveloperSkillsNetwork-DS0701EN-SkillsNetwork/labs/newyork_data.json  <br> *>>* **Toronto:** url 'https://en.wikipedia.org/wiki/List_of_postal_codes_of_Canada:_M' and 'Geospatial_Coordinates.csv' <br> *>>* **Paris:** correspondances-code-insee-code-postal.json downloaded from https://www.data.gouv.fr/fr/datasets/r/e88c6fda-1d09-42a0-a069-606d3259114e <br>\n",
    "\n",
    "**(2)** Data Analysis:<br> *>>* Wrangler the data of the neighborhood data with Pandas Dataframe <br>*>>*  Explore neighborhoods with Foursqure <br> *>>* Visualize using folium map rendering library <br> *>>* Combine data of all three cities for clustering analysis <br> *>>* Cluster and segmentation the neighborhoods of all the three cities together using K-Means method <br> *>>* Examine the cluster and show the similarities/disimilarities</font> "
   ]
  },
  {
   "cell_type": "code",
   "execution_count": null,
   "metadata": {},
   "outputs": [],
   "source": []
  }
 ],
 "metadata": {
  "kernelspec": {
   "display_name": "Python 3",
   "language": "python",
   "name": "python3"
  },
  "language_info": {
   "codemirror_mode": {
    "name": "ipython",
    "version": 3
   },
   "file_extension": ".py",
   "mimetype": "text/x-python",
   "name": "python",
   "nbconvert_exporter": "python",
   "pygments_lexer": "ipython3",
   "version": "3.8.5"
  }
 },
 "nbformat": 4,
 "nbformat_minor": 4
}
